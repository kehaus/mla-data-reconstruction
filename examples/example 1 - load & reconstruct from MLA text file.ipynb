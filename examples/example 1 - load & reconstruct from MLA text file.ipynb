{
 "cells": [
  {
   "cell_type": "code",
   "execution_count": null,
   "metadata": {},
   "outputs": [],
   "source": []
  },
  {
   "cell_type": "code",
   "execution_count": 1,
   "metadata": {},
   "outputs": [],
   "source": [
    "import os\n",
    "import sys\n",
    "\n",
    "import h5py\n",
    "import numpy as np\n",
    "import matplotlib\n",
    "import matplotlib.pyplot as plt"
   ]
  },
  {
   "cell_type": "code",
   "execution_count": 2,
   "metadata": {},
   "outputs": [],
   "source": [
    "# ====================\n",
    "# load mla python library\n",
    "# ====================\n",
    "repo_dir = os.path.dirname(os.getcwd())\n",
    "\n",
    "src_dir = os.path.join(\n",
    "    repo_dir,\n",
    "    'src'\n",
    ")\n",
    "\n",
    "if src_dir not in sys.path:\n",
    "    sys.path.append(src_dir)\n",
    "\n",
    "from mla_reconstruction import _load_mla_data_into_hdf5_dev"
   ]
  },
  {
   "cell_type": "code",
   "execution_count": 3,
   "metadata": {},
   "outputs": [],
   "source": [
    "# ======================\n",
    "# load data\n",
    "# ======================\n",
    "exmpl_dir = 'examples'\n",
    "data_dir = 'test_data'\n",
    "data_subdir = '2021-03-19_grid-MLA-zsweep_5x5nm_5x5pxl_test'\n",
    "\n",
    "mla_txt_fn = os.path.join(\n",
    "    repo_dir,\n",
    "    exmpl_dir,\n",
    "    data_dir,\n",
    "    data_subdir,\n",
    "    'Measurement of 2021-03-20 0655.txt'\n",
    ")\n",
    "\n",
    "mla_fn = mla_txt_fn.replace('.txt', '.hdf5')"
   ]
  },
  {
   "cell_type": "code",
   "execution_count": 4,
   "metadata": {},
   "outputs": [
    {
     "name": "stdout",
     "output_type": "stream",
     "text": [
      "Processed 0/1000\n",
      "Processed 10/1000\n",
      "Processed 20/1000\n",
      "Processed 30/1000\n",
      "Processed 40/1000\n",
      "Processed 50/1000\n",
      "Processed 60/1000\n",
      "Processed 70/1000\n",
      "Processed 80/1000\n",
      "Processed 90/1000\n",
      "Processed 100/1000\n",
      "Processed 110/1000\n",
      "Processed 120/1000\n",
      "Processed 130/1000\n",
      "Processed 140/1000\n",
      "Processed 150/1000\n",
      "Processed 160/1000\n",
      "Processed 170/1000\n",
      "Processed 180/1000\n",
      "Processed 190/1000\n",
      "Processed 200/1000\n",
      "Processed 210/1000\n",
      "Processed 220/1000\n",
      "Processed 230/1000\n",
      "Processed 240/1000\n",
      "Processed 250/1000\n",
      "Processed 260/1000\n",
      "Processed 270/1000\n",
      "Processed 280/1000\n",
      "Processed 290/1000\n",
      "Processed 300/1000\n",
      "Processed 310/1000\n",
      "Processed 320/1000\n",
      "Processed 330/1000\n",
      "Processed 340/1000\n",
      "Processed 350/1000\n",
      "Processed 360/1000\n",
      "Processed 370/1000\n",
      "Processed 380/1000\n",
      "Processed 390/1000\n",
      "Processed 400/1000\n",
      "Processed 410/1000\n",
      "Processed 420/1000\n",
      "Processed 430/1000\n",
      "Processed 440/1000\n",
      "Processed 450/1000\n",
      "Processed 460/1000\n",
      "Processed 470/1000\n",
      "Processed 480/1000\n",
      "Processed 490/1000\n",
      "Processed 500/1000\n",
      "Processed 510/1000\n",
      "Processed 520/1000\n",
      "Processed 530/1000\n",
      "Processed 540/1000\n",
      "Processed 550/1000\n",
      "Processed 560/1000\n",
      "Processed 570/1000\n",
      "Processed 580/1000\n",
      "Processed 590/1000\n",
      "Processed 600/1000\n",
      "Processed 610/1000\n",
      "Processed 620/1000\n",
      "Processed 630/1000\n",
      "Processed 640/1000\n",
      "Processed 650/1000\n",
      "Processed 660/1000\n",
      "Processed 670/1000\n",
      "Processed 680/1000\n",
      "Processed 690/1000\n",
      "Processed 700/1000\n",
      "Processed 710/1000\n",
      "Processed 720/1000\n",
      "Processed 730/1000\n",
      "Processed 740/1000\n",
      "Processed 750/1000\n",
      "Processed 760/1000\n",
      "Processed 770/1000\n",
      "Processed 780/1000\n",
      "Processed 790/1000\n",
      "Processed 800/1000\n",
      "Processed 810/1000\n",
      "Processed 820/1000\n",
      "Processed 830/1000\n",
      "Processed 840/1000\n",
      "Processed 850/1000\n",
      "Processed 860/1000\n",
      "Processed 870/1000\n",
      "Processed 880/1000\n",
      "Processed 890/1000\n",
      "Processed 900/1000\n",
      "Processed 910/1000\n",
      "Processed 920/1000\n",
      "Processed 930/1000\n",
      "Processed 940/1000\n",
      "Processed 950/1000\n",
      "Processed 960/1000\n",
      "Processed 970/1000\n",
      "Processed 980/1000\n",
      "Processed 990/1000\n"
     ]
    }
   ],
   "source": [
    "# ======================\n",
    "# convert data from txt to hdf5\n",
    "#      already completed\n",
    "# ======================\n",
    "mla_fn = _load_mla_data_into_hdf5_dev(\n",
    "    mla_txt_fn,\n",
    "    resize_curr=(5,5,40,119),\n",
    "    resize_cond=(5,5,40,119),\n",
    "    mode='w'\n",
    ")"
   ]
  },
  {
   "cell_type": "code",
   "execution_count": 5,
   "metadata": {},
   "outputs": [],
   "source": [
    "mla = h5py.File(mla_fn, 'r')\n",
    "\n",
    "dset = mla['dset']\n",
    "curr = mla['curr']\n",
    "cond = mla['cond']\n",
    "lin_en = mla['lin_en']\n",
    "\n",
    "prm = dict(dset.attrs.items())\n"
   ]
  },
  {
   "cell_type": "code",
   "execution_count": 12,
   "metadata": {},
   "outputs": [
    {
     "data": {
      "text/plain": [
       "(5, 5, 40, 119)"
      ]
     },
     "execution_count": 12,
     "metadata": {},
     "output_type": "execute_result"
    }
   ],
   "source": [
    "cond.shape"
   ]
  },
  {
   "cell_type": "code",
   "execution_count": 10,
   "metadata": {},
   "outputs": [
    {
     "data": {
      "text/plain": [
       "(1000, 31)"
      ]
     },
     "execution_count": 10,
     "metadata": {},
     "output_type": "execute_result"
    }
   ],
   "source": [
    "dset.shape"
   ]
  },
  {
   "cell_type": "code",
   "execution_count": 18,
   "metadata": {},
   "outputs": [
    {
     "data": {
      "text/plain": [
       "[<matplotlib.lines.Line2D at 0x7f430678dcd0>]"
      ]
     },
     "execution_count": 18,
     "metadata": {},
     "output_type": "execute_result"
    },
    {
     "data": {
      "image/png": "[encoded data removed]",
      "text/plain": [
       "<Figure size 432x288 with 1 Axes>"
      ]
     },
     "metadata": {
      "needs_background": "light"
     },
     "output_type": "display_data"
    }
   ],
   "source": [
    "plt.plot(curr[-1,-1,-1,:])\n",
    "plt.plot(curr[-1,-5,-1,:])\n",
    "plt.plot(curr[-3,-1,-1,:])\n",
    "plt.plot(curr[-4,-3,-1,:])\n",
    "plt.plot(curr[-3,-2,-1,:])\n",
    "plt.plot(curr[-2,-2,-1,:])\n",
    "plt.plot(curr[-1,-3,-1,:])\n",
    "\n"
   ]
  },
  {
   "cell_type": "code",
   "execution_count": 6,
   "metadata": {},
   "outputs": [],
   "source": [
    "n_zsweep = 40"
   ]
  },
  {
   "cell_type": "code",
   "execution_count": 7,
   "metadata": {},
   "outputs": [],
   "source": [
    "# =============\n",
    "# setup colormap\n",
    "# =============\n",
    "cm = matplotlib.cm.viridis\n",
    "cm_lst = [cm.colors[int(i/n_zsweep * 256)] for i in range(n_zsweep)]\n"
   ]
  },
  {
   "cell_type": "code",
   "execution_count": 8,
   "metadata": {},
   "outputs": [
    {
     "data": {
      "image/png": "[encoded data removed]",
      "text/plain": [
       "<Figure size 1080x432 with 4 Axes>"
      ]
     },
     "metadata": {
      "needs_background": "light"
     },
     "output_type": "display_data"
    }
   ],
   "source": [
    "fig = plt.figure(figsize=(15,6))\n",
    "\n",
    "ax_sttngs = {\n",
    "    'xlabel':   'current [pA]'\n",
    "}\n",
    "\n",
    "# ====================\n",
    "# plot 1\n",
    "# ====================\n",
    "ax1 = fig.add_subplot(141, **ax_sttngs)\n",
    "\n",
    "n_point1 = 0\n",
    "for idz in range(n_zsweep):\n",
    "    ax1.plot(\n",
    "        np.array(lin_en),\n",
    "        np.array(curr[0,0,idz,:]),\n",
    "        c=cm_lst[idz]\n",
    "    )\n",
    "ax1.grid()\n",
    "ax1.set_ylabel('voltage [v]')\n",
    "\n",
    "# ====================\n",
    "# plot 2\n",
    "# ====================\n",
    "ax2 = fig.add_subplot(142, **ax_sttngs)\n",
    "\n",
    "n_point1 = 1000\n",
    "for idz in range(n_zsweep):\n",
    "    ax2.plot(\n",
    "        np.array(lin_en),\n",
    "        np.array(curr[1,1,idz,:]),\n",
    "        c=cm_lst[idz]\n",
    "    )\n",
    "ax2.grid()\n",
    "\n",
    "    \n",
    "# ====================\n",
    "# plot 3\n",
    "# ====================\n",
    "ax3 = fig.add_subplot(143, **ax_sttngs)\n",
    "\n",
    "n_point1 = 2000\n",
    "for idz in range(n_zsweep):\n",
    "    ax3.plot(\n",
    "        np.array(lin_en),\n",
    "        np.array(curr[2,4,idz,:]),\n",
    "        c=cm_lst[idz]\n",
    "    )\n",
    "ax3.grid()\n",
    "\n",
    "    \n",
    "# ====================\n",
    "# plot 4\n",
    "# ====================\n",
    "ax4 = fig.add_subplot(144, **ax_sttngs)\n",
    "\n",
    "n_point1 = 3000\n",
    "for idz in range(n_zsweep):\n",
    "    ax4.plot(\n",
    "        np.array(lin_en),\n",
    "        np.array(curr[3,1,idz,:]),\n",
    "        c=cm_lst[idz]\n",
    "    )\n",
    "ax4.grid()\n",
    "\n",
    "\n"
   ]
  },
  {
   "cell_type": "code",
   "execution_count": null,
   "metadata": {},
   "outputs": [],
   "source": []
  }
 ],
 "metadata": {
  "kernelspec": {
   "display_name": "Python 3",
   "language": "python",
   "name": "python3"
  },
  "language_info": {
   "codemirror_mode": {
    "name": "ipython",
    "version": 3
   },
   "file_extension": ".py",
   "mimetype": "text/x-python",
   "name": "python",
   "nbconvert_exporter": "python",
   "pygments_lexer": "ipython3",
   "version": "3.8.5"
  }
 },
 "nbformat": 4,
 "nbformat_minor": 4
}
