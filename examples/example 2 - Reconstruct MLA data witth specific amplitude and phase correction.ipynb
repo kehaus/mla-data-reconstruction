{
 "cells": [
  {
   "cell_type": "markdown",
   "metadata": {},
   "source": [
    "# Example 2 - Reconstruct MLA data with specific amplitude and phase correction\n",
    "\n",
    "This example shows how to specify amplitude and phase correction values for the MLA reconstruction. Calibration value are calculated and stored in the ``mla_calib`` directory in this repository. "
   ]
  },
  {
   "cell_type": "code",
   "execution_count": 2,
   "metadata": {},
   "outputs": [],
   "source": [
    "import os\n",
    "import sys\n",
    "\n",
    "import h5py\n",
    "import numpy as np\n",
    "import matplotlib\n",
    "import matplotlib.pyplot as plt"
   ]
  },
  {
   "cell_type": "code",
   "execution_count": 25,
   "metadata": {},
   "outputs": [],
   "source": [
    "# ====================\n",
    "# load mla python library\n",
    "# ====================\n",
    "repo_dir = os.path.dirname(os.getcwd())\n",
    "\n",
    "src_dir = os.path.join(\n",
    "    repo_dir,\n",
    "    'src'\n",
    ")\n",
    "\n",
    "if src_dir not in sys.path:\n",
    "    sys.path.append(src_dir)\n",
    "\n",
    "from mla_reconstruction import _load_mla_data_into_hdf5"
   ]
  },
  {
   "cell_type": "code",
   "execution_count": 26,
   "metadata": {},
   "outputs": [],
   "source": [
    "# ======================\n",
    "# load data\n",
    "# ======================\n",
    "exmpl_dir = 'examples'\n",
    "data_dir = 'test_data'\n",
    "data_subdir = '2021-03-19_grid-MLA-zsweep_5x5nm_5x5pxl_test'\n",
    "\n",
    "mla_txt_fn = os.path.join(\n",
    "    repo_dir,\n",
    "    exmpl_dir,\n",
    "    data_dir,\n",
    "    data_subdir,\n",
    "    'Measurement of 2021-03-20 0655.txt'\n",
    ")\n",
    "\n",
    "mla_fn = mla_txt_fn.replace('.txt', '.hdf5')"
   ]
  },
  {
   "cell_type": "code",
   "execution_count": 33,
   "metadata": {},
   "outputs": [],
   "source": [
    "# =======================\n",
    "# load amplitude and Phase calibration values\n",
    "# =======================\n",
    "calib_dir = os.path.join(\n",
    "    repo_dir,\n",
    "    'mla_calib'\n",
    ")\n",
    "if calib_dir not in sys.path:\n",
    "    sys.path.append(calib_dir)\n",
    "\n",
    "from mla_calib_20210521 import AMPLITUDE_LAG as amp_lag_0521\n",
    "from mla_calib_20210521 import PHASE_LAG as phase_lag_0521"
   ]
  },
  {
   "cell_type": "code",
   "execution_count": 34,
   "metadata": {
    "scrolled": true
   },
   "outputs": [
    {
     "name": "stdout",
     "output_type": "stream",
     "text": [
      "Processed 0/1000\n",
      "Processed 10/1000\n",
      "Processed 20/1000\n",
      "Processed 30/1000\n",
      "Processed 40/1000\n",
      "Processed 50/1000\n",
      "Processed 60/1000\n",
      "Processed 70/1000\n",
      "Processed 80/1000\n",
      "Processed 90/1000\n",
      "Processed 100/1000\n",
      "Processed 110/1000\n",
      "Processed 120/1000\n",
      "Processed 130/1000\n",
      "Processed 140/1000\n",
      "Processed 150/1000\n",
      "Processed 160/1000\n",
      "Processed 170/1000\n",
      "Processed 180/1000\n",
      "Processed 190/1000\n",
      "Processed 200/1000\n",
      "Processed 210/1000\n",
      "Processed 220/1000\n",
      "Processed 230/1000\n",
      "Processed 240/1000\n",
      "Processed 250/1000\n",
      "Processed 260/1000\n",
      "Processed 270/1000\n",
      "Processed 280/1000\n",
      "Processed 290/1000\n",
      "Processed 300/1000\n",
      "Processed 310/1000\n",
      "Processed 320/1000\n",
      "Processed 330/1000\n",
      "Processed 340/1000\n",
      "Processed 350/1000\n",
      "Processed 360/1000\n",
      "Processed 370/1000\n",
      "Processed 380/1000\n",
      "Processed 390/1000\n",
      "Processed 400/1000\n",
      "Processed 410/1000\n",
      "Processed 420/1000\n",
      "Processed 430/1000\n",
      "Processed 440/1000\n",
      "Processed 450/1000\n",
      "Processed 460/1000\n",
      "Processed 470/1000\n",
      "Processed 480/1000\n",
      "Processed 490/1000\n",
      "Processed 500/1000\n",
      "Processed 510/1000\n",
      "Processed 520/1000\n",
      "Processed 530/1000\n",
      "Processed 540/1000\n",
      "Processed 550/1000\n",
      "Processed 560/1000\n",
      "Processed 570/1000\n",
      "Processed 580/1000\n",
      "Processed 590/1000\n",
      "Processed 600/1000\n",
      "Processed 610/1000\n",
      "Processed 620/1000\n",
      "Processed 630/1000\n",
      "Processed 640/1000\n",
      "Processed 650/1000\n",
      "Processed 660/1000\n",
      "Processed 670/1000\n",
      "Processed 680/1000\n",
      "Processed 690/1000\n",
      "Processed 700/1000\n",
      "Processed 710/1000\n",
      "Processed 720/1000\n",
      "Processed 730/1000\n",
      "Processed 740/1000\n",
      "Processed 750/1000\n",
      "Processed 760/1000\n",
      "Processed 770/1000\n",
      "Processed 780/1000\n",
      "Processed 790/1000\n",
      "Processed 800/1000\n",
      "Processed 810/1000\n",
      "Processed 820/1000\n",
      "Processed 830/1000\n",
      "Processed 840/1000\n",
      "Processed 850/1000\n",
      "Processed 860/1000\n",
      "Processed 870/1000\n",
      "Processed 880/1000\n",
      "Processed 890/1000\n",
      "Processed 900/1000\n",
      "Processed 910/1000\n",
      "Processed 920/1000\n",
      "Processed 930/1000\n",
      "Processed 940/1000\n",
      "Processed 950/1000\n",
      "Processed 960/1000\n",
      "Processed 970/1000\n",
      "Processed 980/1000\n",
      "Processed 990/1000\n",
      "data are successfully converted to the hdff file: /home/kh/code/mla-data-reconstruction/examples/test_data/2021-03-19_grid-MLA-zsweep_5x5nm_5x5pxl_test/Measurement of 2021-03-20 0655.hdf5\n"
     ]
    }
   ],
   "source": [
    "# ======================\n",
    "# convert data from txt to hdf5\n",
    "# ======================\n",
    "mla_fn = _load_mla_data_into_hdf5(\n",
    "    mla_txt_fn,\n",
    "    resize_curr=(5,5,40,119),\n",
    "    resize_cond=(5,5,40,119),\n",
    "    pixel_number=1000,\n",
    "    mode='w',\n",
    "    amplitude_lag=amp_lag_0521,\n",
    "    phase_lag=phase_lag_0521\n",
    ")"
   ]
  },
  {
   "cell_type": "code",
   "execution_count": 8,
   "metadata": {},
   "outputs": [],
   "source": [
    "# ======================\n",
    "# Load reconstructed data from HDF5 file\n",
    "# ======================\n",
    "mla = h5py.File(mla_fn, 'r')\n",
    "\n",
    "dset = mla['dset']\n",
    "curr = mla['curr']\n",
    "cond = mla['cond']\n",
    "lin_en = np.array(mla['lin_en'])\n",
    "\n",
    "prm = dict(dset.attrs.items())\n"
   ]
  },
  {
   "cell_type": "code",
   "execution_count": null,
   "metadata": {},
   "outputs": [],
   "source": []
  },
  {
   "cell_type": "code",
   "execution_count": null,
   "metadata": {},
   "outputs": [],
   "source": []
  },
  {
   "cell_type": "code",
   "execution_count": 4,
   "metadata": {},
   "outputs": [],
   "source": []
  },
  {
   "cell_type": "code",
   "execution_count": null,
   "metadata": {},
   "outputs": [],
   "source": []
  },
  {
   "cell_type": "code",
   "execution_count": null,
   "metadata": {},
   "outputs": [],
   "source": []
  }
 ],
 "metadata": {
  "kernelspec": {
   "display_name": "Python 3",
   "language": "python",
   "name": "python3"
  },
  "language_info": {
   "codemirror_mode": {
    "name": "ipython",
    "version": 3
   },
   "file_extension": ".py",
   "mimetype": "text/x-python",
   "name": "python",
   "nbconvert_exporter": "python",
   "pygments_lexer": "ipython3",
   "version": "3.8.5"
  }
 },
 "nbformat": 4,
 "nbformat_minor": 4
}
