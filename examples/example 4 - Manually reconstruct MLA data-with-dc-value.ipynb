{
 "cells": [
  {
   "cell_type": "markdown",
   "metadata": {},
   "source": [
    "# Example 3 - Manually reconstruct MLA data\n",
    "\n",
    "This script illustrates how to reconstruct the MLA data using the low-level functions inside the ``mla_reconstruction`` library. The different data processing steps are grouped in sub sections and commented to provide insight on how they work.\n",
    "\n",
    "The different sub sections are\n",
    "\n",
    "1. Import the phase & amplitude corrections\n",
    "\n",
    "2. Load a data block\n",
    "\n",
    "3. Extract FFT coefficents and apply amp&phase corrections\n",
    "\n",
    "4. current and conductance reconstruction\n",
    "\n"
   ]
  },
  {
   "cell_type": "code",
   "execution_count": 1,
   "metadata": {},
   "outputs": [],
   "source": [
    "import os\n",
    "import sys\n",
    "\n",
    "import h5py\n",
    "import numpy as np\n",
    "import matplotlib\n",
    "import matplotlib.pyplot as plt"
   ]
  },
  {
   "cell_type": "code",
   "execution_count": 2,
   "metadata": {},
   "outputs": [],
   "source": [
    "# ====================\n",
    "# load mla python library\n",
    "# ====================\n",
    "repo_dir = os.path.dirname(os.getcwd())\n",
    "\n",
    "src_dir = os.path.join(\n",
    "    repo_dir,\n",
    "    'src'\n",
    ")\n",
    "\n",
    "if src_dir not in sys.path:\n",
    "    sys.path.append(src_dir)\n",
    "\n",
    "from mla_reconstruction import _create_block_list, _get_data_block_list, _parse_all_data_blocks\n",
    "from mla_reconstruction import _convert_to_polar_coordinates, _add_amplitude_and_phase_correction, _convert_to_rectangular_coordinates\n",
    "from mla_reconstruction import get_measurement_data, get_energy_spectra\n",
    "from mla_reconstruction import _load_mla_data_into_hdf5, _load_mla_data_header, _read_one_block\n",
    "from mla_reconstruction import add_dc_value_to_fft_coeff_array"
   ]
  },
  {
   "cell_type": "code",
   "execution_count": 3,
   "metadata": {},
   "outputs": [],
   "source": [
    "# ======================\n",
    "# load data\n",
    "# ======================\n",
    "exmpl_dir = 'examples'\n",
    "data_dir = 'test_data'\n",
    "data_subdir = '20210604_MLA_DCoffset_test'\n",
    "\n",
    "mla_txt_fn = os.path.join(\n",
    "    repo_dir,\n",
    "    exmpl_dir,\n",
    "    data_dir,\n",
    "    data_subdir,\n",
    "    'Measurement of 2021-06-04 1734.txt'\n",
    ")\n",
    "\n",
    "mla_fn = mla_txt_fn.replace('.txt', '.hdf5')"
   ]
  },
  {
   "cell_type": "markdown",
   "metadata": {},
   "source": [
    "## Import phase & amplitude corrections"
   ]
  },
  {
   "cell_type": "code",
   "execution_count": 4,
   "metadata": {},
   "outputs": [],
   "source": [
    "# =======================\n",
    "# load amplitude and Phase calibration values\n",
    "# =======================\n",
    "calib_dir = os.path.join(\n",
    "    repo_dir,\n",
    "    'mla_calib'\n",
    ")\n",
    "if calib_dir not in sys.path:\n",
    "    sys.path.append(calib_dir)\n",
    "\n",
    "from mla_calib_20210323 import AMPLITUDE_LAG as amp_lag_0323\n",
    "from mla_calib_20210323 import PHASE_LAG as phase_lag_0323"
   ]
  },
  {
   "cell_type": "markdown",
   "metadata": {},
   "source": [
    "## Load data from thext file"
   ]
  },
  {
   "cell_type": "code",
   "execution_count": 5,
   "metadata": {
    "scrolled": true
   },
   "outputs": [
    {
     "name": "stdout",
     "output_type": "stream",
     "text": [
      "Dc Value: 0.677215\n",
      "\n"
     ]
    }
   ],
   "source": [
    "# open txt file and create File hanlde\n",
    "f_txt = open(mla_txt_fn, 'r')\n",
    "\n",
    "# Load the measurement parameter \n",
    "prm_ = _load_mla_data_header(f_txt, pixel_number=1000)\n",
    "\n",
    "# read the first block\n",
    "block_lines = _read_one_block(f_txt)\n",
    "block_list = _create_block_list(block_lines)\n",
    "data_blocks = _get_data_block_list(block_list)"
   ]
  },
  {
   "cell_type": "markdown",
   "metadata": {},
   "source": [
    "## Exract measured FFT coefficients and apply corrections\n",
    "Data extraction and the application of phase and amplitude corrections is done inside the function ``get_measurement_data(..)``. The different processing steps are split up in helper functions as listed here:\n",
    "\n",
    "- ``_parse_all_data_blocks( )``\n",
    "- ``apply_amplitude_and_phase_correction( )``\n",
    "    - ``_convert_to_polar_coordinates( )``\n",
    "    - ``_add_amplitude_and_phase_correction( )``\n",
    "    - ``_convert_to_rectangular_coordinates( )``\n",
    "    \n",
    "    \n",
    "### Detailed explanation about the helper functions\n",
    " \n",
    "``_parse_all_data_blocks( )``:\n",
    "> parses the measured MLA FFT coefficients from the given text blocks to a complex-valued 2d arrays where every value represents one FFT coefficient. This step only parse, no data processing happens here.\n",
    "\n",
    "``apply_amplitude_and_phase_correction( )``:\n",
    "> This function converts the given dataset from complex rectangular coordinates to polar coordinates, applies a phase (additive) and ampltude (multiplicative) correction, and converts back to rectangular coordinates. The functions used for the transformation (``cmath.polar`` and ``cmath.rect``) use the *radiant representation* of polar coordinates. The function ``_add_amplitude_and_phase_correction( )`` takes the phase correction (variable ``phase_lag``) in *degree*. This variable is then internally converted from degree to radiant to match the values provided from the ``cmath`` transformation functions.\n",
    "\n",
    "\n"
   ]
  },
  {
   "cell_type": "code",
   "execution_count": 21,
   "metadata": {},
   "outputs": [],
   "source": [
    "# reconstruct measurement data\n",
    "arr_ = get_measurement_data(\n",
    "    data_blocks,\n",
    "    prm_,\n",
    "    deviation=None,\n",
    "    phase_lag=phase_lag_0323,\n",
    "    amplitude_lag=amp_lag_0323\n",
    ")"
   ]
  },
  {
   "cell_type": "code",
   "execution_count": 7,
   "metadata": {},
   "outputs": [],
   "source": [
    "# ==================================================================\n",
    "# inside get_measurement_datat(..) the following functions are executed\n",
    "# ==================================================================\n",
    "\n",
    "# =================\n",
    "# 1. extract data from txt-block\n",
    "# =================\n",
    "dset, dc_value = _parse_all_data_blocks(block_list, prm_['demodnum'])\n",
    "\n",
    "# =================\n",
    "# 2. apply_amplitude_and_phase_correction\n",
    "# =================\n",
    "\n",
    "# 2.1 convert from cartesian to polar coordinates\n",
    "dset_p = _convert_to_polar_coordinates(dset)\n",
    "\n",
    "# 2.2 add amp & phase correction\n",
    "dset_p, devi_, amp_lag_, pase_lag_ = _add_amplitude_and_phase_correction(\n",
    "    dset_p,\n",
    "    deviation=None,\n",
    "    phase_lag=phase_lag_0323,\n",
    "    amplitude_lag=amp_lag_0323\n",
    ")\n",
    "# 2.3 convert back from polar to cartesian coordinates\n",
    "dset_rect = _convert_to_rectangular_coordinates(dset_p)\n",
    "\n",
    "dset_rect = add_dc_value_to_fft_coeff_array(dset_rect, dc_value)"
   ]
  },
  {
   "cell_type": "markdown",
   "metadata": {},
   "source": [
    "## Reconstruct the energy specta \n",
    "\n",
    "This computation steps are conducted inside the ``get_energy_spectra( )`` function. This function calls the following helper functions inside:\n",
    "\n",
    "* ``setup_reconstruction_parameter( )``\n",
    "* ``reconstruct_energy_spectra( )``\n",
    "    * ``get_linear_energy( )``\n",
    "    * ``_reconstruct_current_from_fft_coefficients( )``\n",
    "    * ``_calc_current_interpolation( )``\n",
    "    * ``_calc_conductance_from_current( )``\n",
    "\n",
    "### Detailed explanation about the helper functions\n",
    "\n",
    "``setup_reconstructoin_parameter( )``:\n",
    "> computes the time, voltage and indeces values required for the current reconstruction and interpolation. The computed values inhere are derived from the MLA measurement parameters (e.g. ``modamp``, ``demod_freqs``, ``offset``, ``srate``, ...).\n",
    "\n",
    "``reconstruct_energy_spectra( )``\n",
    "> reconstructs the current over voltage trace from the FFT coefficents and interpolates the obtained fwd and bwd trace to obtain a current curve equally spaced over the modulated bias range. The corresponding conductance curve is obtained by numerically differentiating the current trace with ``np.diff``\n",
    "\n",
    "   * ``get_linearized_energy( )``: returns equally spaced bias values derived from ``modamp``, ``offset``, and the specified energy resolution ``e_res``\n",
    "   \n",
    "   \n",
    "   * ``_reconstruct_current_from_fft_coefficients( )``: is done using the ``np.fft.ifft( )`` function. The obtained complex current values are converted to real values with ``np.real( )``. \n",
    "   \n",
    "   \n",
    "   * ``_calc_current_interpolation( )``: is done using ``scipy.interpolate.interp1d( )``. The function allows to specify which part of the current trace should be used for reconstruction (e.g. fwd, back, or both). \n",
    "   \n",
    "   \n",
    "   * ``_calc_conductance_from_current( )``: are calculated by numerically differentiating the interpolated current trace using ``np.diff( )``.\n"
   ]
  },
  {
   "cell_type": "code",
   "execution_count": 20,
   "metadata": {},
   "outputs": [
    {
     "name": "stdout",
     "output_type": "stream",
     "text": [
      "dc-value detected. shifted first_index by -1 to be 0.\n",
      "row length:  1\n",
      "idcs:        31\n"
     ]
    }
   ],
   "source": [
    "from mla_reconstruction import _setup_reconstruction_parameter, reconstruct_energy_spectra, get_linearized_energy\n",
    "from mla_reconstruction import _reconstruct_current_from_fft_coefficients\n",
    "from mla_reconstruction import _calc_current_interpolation\n",
    "from mla_reconstruction import _calc_conductance_from_current\n",
    "from mla_reconstruction import _adjust_reconstruction_idcs_to_dc_value\n",
    "\n",
    "# ==================================================================\n",
    "# inside reconstruct_energy_spectra(..) the following functions are executed\n",
    "# ==================================================================\n",
    "e_res = 0.005\n",
    "\n",
    "# =================\n",
    "# 1. setup reconstruction parameter\n",
    "# =================\n",
    "t, v_t, first_index, last_index, step_size = _setup_reconstruction_parameter(**prm_)\n",
    "\n",
    "# =================\n",
    "# 2. reconstruction routine\n",
    "# =================\n",
    "\n",
    "# 2.1. get linearized energy values\n",
    "lin_en = get_linearized_energy(prm_, e_res=e_res)\n",
    "\n",
    "# 2.2 adjust indeces\n",
    "first_index, last_index = _adjust_reconstruction_idcs_to_dc_value(dset_rect, first_index, last_index, step_size)\n",
    "\n",
    "# 2.3 reconstruct the current\n",
    "recon_pixels_amp = _reconstruct_current_from_fft_coefficients(dset_rect, prm_, first_index, last_index, step_size)\n",
    "\n",
    "# 2.4 calculate the interpolated current trace\n",
    "f = _calc_current_interpolation(recon_pixels_amp, prm_, v_t, use_trace='bwd')\n",
    "curr_ = f(lin_en)\n",
    "\n",
    "# 2.5 calculate conductance values\n",
    "cond = _calc_conductance_from_current(f, lin_en)\n"
   ]
  },
  {
   "cell_type": "code",
   "execution_count": 19,
   "metadata": {},
   "outputs": [
    {
     "name": "stdout",
     "output_type": "stream",
     "text": [
      "dc-value detected. shifted first_index by -1 to be 0.\n",
      "row length:  32\n",
      "idcs:        31\n"
     ]
    }
   ],
   "source": [
    "# =================\n",
    "# 2. reconstruction routine\n",
    "# =================\n",
    "lin_en, curr, cond = reconstruct_energy_spectra(\n",
    "    dset_rect, prm_, t, v_t, 1, last_index, step_size\n",
    ")"
   ]
  },
  {
   "cell_type": "markdown",
   "metadata": {},
   "source": [
    "## Plot the results"
   ]
  },
  {
   "cell_type": "code",
   "execution_count": 12,
   "metadata": {},
   "outputs": [
    {
     "data": {
      "text/plain": [
       "[<matplotlib.lines.Line2D at 0x7efe877cff10>]"
      ]
     },
     "execution_count": 12,
     "metadata": {},
     "output_type": "execute_result"
    },
    {
     "data": {
      "image/png": "[encoded data removed]",
      "text/plain": [
       "<Figure size 432x288 with 1 Axes>"
      ]
     },
     "metadata": {
      "needs_background": "light"
     },
     "output_type": "display_data"
    }
   ],
   "source": [
    "plt.plot(v_t, recon_pixels_amp)"
   ]
  },
  {
   "cell_type": "code",
   "execution_count": 17,
   "metadata": {},
   "outputs": [
    {
     "data": {
      "text/plain": [
       "[<matplotlib.lines.Line2D at 0x7efe85412130>]"
      ]
     },
     "execution_count": 17,
     "metadata": {},
     "output_type": "execute_result"
    },
    {
     "data": {
      "image/png": "[encoded data removed]",
      "text/plain": [
       "<Figure size 432x288 with 1 Axes>"
      ]
     },
     "metadata": {
      "needs_background": "light"
     },
     "output_type": "display_data"
    }
   ],
   "source": [
    "plt.plot(lin_en, cond.reshape((-1)))"
   ]
  },
  {
   "cell_type": "code",
   "execution_count": 18,
   "metadata": {},
   "outputs": [],
   "source": [
    "f_txt.close()"
   ]
  },
  {
   "cell_type": "code",
   "execution_count": null,
   "metadata": {},
   "outputs": [],
   "source": []
  }
 ],
 "metadata": {
  "kernelspec": {
   "display_name": "Python 3",
   "language": "python",
   "name": "python3"
  },
  "language_info": {
   "codemirror_mode": {
    "name": "ipython",
    "version": 3
   },
   "file_extension": ".py",
   "mimetype": "text/x-python",
   "name": "python",
   "nbconvert_exporter": "python",
   "pygments_lexer": "ipython3",
   "version": "3.8.5"
  }
 },
 "nbformat": 4,
 "nbformat_minor": 4
}
